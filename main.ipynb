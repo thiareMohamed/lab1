{
 "cells": [
  {
   "cell_type": "code",
   "execution_count": 20,
   "metadata": {},
   "outputs": [
    {
     "name": "stdout",
     "output_type": "stream",
     "text": [
      "Calling function calc_distance with arguments [(1.0, 1.0, 1.0), (2.0, 2.0, 2.0), (3.0, 3.0, 3.0)] and [(4.0, 4.0, 4.0), (5.0, 5.0, 5.0), (6.0, 6.0, 6.0)] .\n",
      "[5.196152422706632, 5.196152422706632, 5.196152422706632]\n"
     ]
    }
   ],
   "source": [
    "def calc_distance(point1, point2):\n",
    "\n",
    "    distances = []\n",
    "\n",
    "    for p1, p2 in zip(point1, point2):\n",
    "        distance = sum((x - y) ** 2 for x, y in zip(p1, p2)) ** 0.5\n",
    "        distances.append(distance)\n",
    "    return distances\n",
    "\n",
    "def my_map(func, arg1, arg2):\n",
    "    print(\"Calling function calc_distance with arguments\", arg1, \"and\", arg2, \".\")\n",
    "    return calc_distance(arg1, arg2)\n",
    "\n",
    "point1 = [(1.0, 1.0, 1.0), (2.0, 2.0, 2.0), (3.0, 3.0, 3.0)]\n",
    "point2 = [(4.0, 4.0, 4.0), (5.0, 5.0, 5.0), (6.0, 6.0, 6.0)]\n",
    "\n",
    "print(my_map(calc_distance, point1, point2))"
   ]
  }
 ],
 "metadata": {
  "kernelspec": {
   "display_name": "base",
   "language": "python",
   "name": "python3"
  },
  "language_info": {
   "codemirror_mode": {
    "name": "ipython",
    "version": 3
   },
   "file_extension": ".py",
   "mimetype": "text/x-python",
   "name": "python",
   "nbconvert_exporter": "python",
   "pygments_lexer": "ipython3",
   "version": "3.11.5"
  }
 },
 "nbformat": 4,
 "nbformat_minor": 2
}
